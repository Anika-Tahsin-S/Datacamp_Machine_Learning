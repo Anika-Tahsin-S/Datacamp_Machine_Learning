{
 "cells": [
  {
   "cell_type": "markdown",
   "metadata": {},
   "source": [
    "#                SQL in a nutshell (1)             #\n",
    "A SQL query returns a table derived from one or more tables contained in a database.\n",
    "\n",
    "Every SQL query is made up of commands that tell the database what you want to do with the data. The two commands that every query has to contain are SELECT and FROM.\n",
    "\n",
    "The SELECT command is followed by the columns you want in the resulting table.\n",
    "\n",
    "The FROM command is followed by the name of the table that contains those columns. The minimal SQL query is:\n"
   ]
  },
  {
   "cell_type": "code",
   "execution_count": null,
   "metadata": {},
   "outputs": [],
   "source": [
    "SELECT * FROM my_table;"
   ]
  },
  {
   "cell_type": "markdown",
   "metadata": {},
   "source": [
    "The * selects all columns, so this returns the entire table named my_table.\n",
    "\n",
    "Similar to .withColumn(), you can do column-wise computations within a SELECT statement. For example,\n"
   ]
  },
  {
   "cell_type": "code",
   "execution_count": null,
   "metadata": {},
   "outputs": [],
   "source": [
    "SELECT origin, dest, air_time / 60 FROM flights;"
   ]
  },
  {
   "cell_type": "markdown",
   "metadata": {},
   "source": [
    "returns a table with the origin, destination, and duration in hours for each flight.\n",
    "\n",
    "Another commonly used command is WHERE. This command filters the rows of the table based on some logical condition you specify. \n",
    "The resulting table contains the rows where your condition is true. For example, if you had a table of students and grades you could do:\n"
   ]
  },
  {
   "cell_type": "code",
   "execution_count": null,
   "metadata": {},
   "outputs": [],
   "source": [
    "SELECT * FROM students\n",
    "   WHERE grade = 'A';"
   ]
  },
  {
   "cell_type": "markdown",
   "metadata": {},
   "source": [
    "to select all the columns and the rows containing information about students who got As.\n",
    "\n",
    "\n",
    "\n",
    "\n",
    "#### Which of the following queries returns a table of tail numbers and destinations for flights that lasted more than 10 hours?\n",
    "\n",
    "#### Answer: \n"
   ]
  },
  {
   "cell_type": "code",
   "execution_count": null,
   "metadata": {},
   "outputs": [],
   "source": [
    "SELECT dest, tail_num FROM flights WHERE air_time > 600;"
   ]
  }
 ],
 "metadata": {
  "interpreter": {
   "hash": "5c0372ed38b372118c24adb00d45654d76c8d10261533c5724e3f5fc1d75489a"
  },
  "kernelspec": {
   "display_name": "Python 3.8.8 64-bit",
   "language": "python",
   "name": "python3"
  },
  "language_info": {
   "name": "python",
   "version": "3.8.8"
  },
  "orig_nbformat": 4
 },
 "nbformat": 4,
 "nbformat_minor": 2
}
